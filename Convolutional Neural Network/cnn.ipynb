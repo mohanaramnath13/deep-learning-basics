{
 "cells": [
  {
   "cell_type": "markdown",
   "metadata": {},
   "source": [
    "# Dataset Setup"
   ]
  },
  {
   "cell_type": "markdown",
   "metadata": {},
   "source": [
    "### Loading and understanding the dataset"
   ]
  },
  {
   "cell_type": "code",
   "execution_count": 21,
   "metadata": {},
   "outputs": [],
   "source": [
    "import pandas as pd\n",
    "\n",
    "df = pd.read_csv('cnn_baseline_synthetic_dataset.csv')"
   ]
  },
  {
   "cell_type": "code",
   "execution_count": 22,
   "metadata": {},
   "outputs": [
    {
     "name": "stdout",
     "output_type": "stream",
     "text": [
      "    pixel_1    pixel_2   pixel_3    pixel_4   pixel_5   pixel_6   pixel_7  \\\n",
      "0  1.350530  -0.264931  1.458192 -10.420865 -4.039925  2.285616  0.244955   \n",
      "1  2.244223   5.408116 -0.018820  -3.599888  1.685529  0.894830 -3.411413   \n",
      "2  1.030068  -0.521617  0.500427  -8.206938 -2.528794  1.100525 -1.378448   \n",
      "3 -3.689529  32.855339  1.133847  -3.278487  2.193459  4.124296 -3.366438   \n",
      "4 -1.327645  23.332569  0.088367  -9.821378 -0.215715  6.561646  1.508672   \n",
      "\n",
      "    pixel_8   pixel_9   pixel_10  ...  pixel_24  pixel_25  pixel_26  pixel_27  \\\n",
      "0 -1.075668 -1.618843  -9.490431  ...  1.671737 -9.411794  0.297915 -3.652920   \n",
      "1 -1.039748  2.671037   7.939064  ...  4.399925  2.580795  1.120450 -0.628232   \n",
      "2 -0.237991 -0.469913  -1.135191  ...  1.137793  2.458394 -0.129610 -0.259983   \n",
      "3  1.087411 -2.729986   5.768818  ...  4.515693  0.917887 -0.347805  3.542585   \n",
      "4  0.094761 -0.956521  12.388239  ... -0.147159  1.312556  0.393136 -0.383121   \n",
      "\n",
      "   pixel_28  pixel_29  pixel_30  pixel_31  pixel_32  label  \n",
      "0  0.218559 -0.876242  4.202036 -3.110746 -0.610146      5  \n",
      "1  0.142926  0.346697 -1.768788 -0.700200 -0.991346      0  \n",
      "2  2.379224  0.897550  2.852518 -1.324987  0.692651      1  \n",
      "3 -6.243181  0.927965 -1.173716 -1.008187  2.114053      8  \n",
      "4 -2.194879 -2.788412 -2.050365  0.431395 -1.402816      8  \n",
      "\n",
      "[5 rows x 33 columns]\n"
     ]
    }
   ],
   "source": [
    "print(df.head())"
   ]
  },
  {
   "cell_type": "code",
   "execution_count": 23,
   "metadata": {},
   "outputs": [
    {
     "name": "stdout",
     "output_type": "stream",
     "text": [
      "Index(['pixel_1', 'pixel_2', 'pixel_3', 'pixel_4', 'pixel_5', 'pixel_6',\n",
      "       'pixel_7', 'pixel_8', 'pixel_9', 'pixel_10', 'pixel_11', 'pixel_12',\n",
      "       'pixel_13', 'pixel_14', 'pixel_15', 'pixel_16', 'pixel_17', 'pixel_18',\n",
      "       'pixel_19', 'pixel_20', 'pixel_21', 'pixel_22', 'pixel_23', 'pixel_24',\n",
      "       'pixel_25', 'pixel_26', 'pixel_27', 'pixel_28', 'pixel_29', 'pixel_30',\n",
      "       'pixel_31', 'pixel_32', 'label'],\n",
      "      dtype='object')\n"
     ]
    }
   ],
   "source": [
    "print(df.columns)"
   ]
  },
  {
   "cell_type": "code",
   "execution_count": 24,
   "metadata": {},
   "outputs": [
    {
     "name": "stdout",
     "output_type": "stream",
     "text": [
      "(1000, 33)\n"
     ]
    }
   ],
   "source": [
    "print(df.shape)"
   ]
  },
  {
   "cell_type": "code",
   "execution_count": 25,
   "metadata": {},
   "outputs": [
    {
     "name": "stdout",
     "output_type": "stream",
     "text": [
      "label\n",
      "0    102\n",
      "1    101\n",
      "5    100\n",
      "6    100\n",
      "9    100\n",
      "3    100\n",
      "2    100\n",
      "8     99\n",
      "7     99\n",
      "4     99\n",
      "Name: count, dtype: int64\n"
     ]
    }
   ],
   "source": [
    "print(df['label'].value_counts())"
   ]
  },
  {
   "cell_type": "code",
   "execution_count": 26,
   "metadata": {},
   "outputs": [
    {
     "name": "stdout",
     "output_type": "stream",
     "text": [
      "pixel_1     float64\n",
      "pixel_2     float64\n",
      "pixel_3     float64\n",
      "pixel_4     float64\n",
      "pixel_5     float64\n",
      "pixel_6     float64\n",
      "pixel_7     float64\n",
      "pixel_8     float64\n",
      "pixel_9     float64\n",
      "pixel_10    float64\n",
      "pixel_11    float64\n",
      "pixel_12    float64\n",
      "pixel_13    float64\n",
      "pixel_14    float64\n",
      "pixel_15    float64\n",
      "pixel_16    float64\n",
      "pixel_17    float64\n",
      "pixel_18    float64\n",
      "pixel_19    float64\n",
      "pixel_20    float64\n",
      "pixel_21    float64\n",
      "pixel_22    float64\n",
      "pixel_23    float64\n",
      "pixel_24    float64\n",
      "pixel_25    float64\n",
      "pixel_26    float64\n",
      "pixel_27    float64\n",
      "pixel_28    float64\n",
      "pixel_29    float64\n",
      "pixel_30    float64\n",
      "pixel_31    float64\n",
      "pixel_32    float64\n",
      "label         int64\n",
      "dtype: object\n"
     ]
    }
   ],
   "source": [
    "print(df.dtypes)"
   ]
  },
  {
   "cell_type": "markdown",
   "metadata": {},
   "source": [
    "# Load, Normalize, and Create DataLoader"
   ]
  },
  {
   "cell_type": "code",
   "execution_count": 27,
   "metadata": {},
   "outputs": [
    {
     "name": "stdout",
     "output_type": "stream",
     "text": [
      "Train samples: 800, Test samples: 200\n",
      "Sample input shape: torch.Size([1, 32]), Sample label: 5\n"
     ]
    }
   ],
   "source": [
    "import torch\n",
    "from torch.utils.data import Dataset, DataLoader, random_split\n",
    "import pandas as pd\n",
    "from sklearn.preprocessing import StandardScaler\n",
    "\n",
    "class SyntheticDataset(Dataset):\n",
    "    def __init__(self, csv_file):\n",
    "        df = pd.read_csv(csv_file)\n",
    "        self.X = df.drop('label', axis=1).values \n",
    "        self.y = df['label'].values    \n",
    "        \n",
    "        # Normalize features using StandardScaler\n",
    "        scaler = StandardScaler()\n",
    "        self.X = scaler.fit_transform(self.X)\n",
    "        \n",
    "        # Convert to torch tensors\n",
    "        # Shape X -> (samples, channels=1, features=32)\n",
    "        self.X = torch.tensor(self.X, dtype=torch.float32).unsqueeze(1)\n",
    "        self.y = torch.tensor(self.y, dtype=torch.long)\n",
    "    \n",
    "    def __len__(self):\n",
    "        return len(self.y)\n",
    "    \n",
    "    def __getitem__(self, idx):\n",
    "        return self.X[idx], self.y[idx]\n",
    "\n",
    "# Instantiate dataset\n",
    "dataset = SyntheticDataset('cnn_baseline_synthetic_dataset.csv')\n",
    "\n",
    "# Split into train and test (80-20 split)\n",
    "train_size = int(0.8 * len(dataset))\n",
    "test_size = len(dataset) - train_size\n",
    "train_dataset, test_dataset = random_split(dataset, [train_size, test_size])\n",
    "\n",
    "# Create DataLoaders\n",
    "batch_size = 32\n",
    "train_loader = DataLoader(train_dataset, batch_size=batch_size, shuffle=True)\n",
    "test_loader = DataLoader(test_dataset, batch_size=batch_size, shuffle=False)\n",
    "\n",
    "print(f\"Train samples: {len(train_dataset)}, Test samples: {len(test_dataset)}\")\n",
    "print(f\"Sample input shape: {dataset[0][0].shape}, Sample label: {dataset[0][1]}\")\n"
   ]
  },
  {
   "cell_type": "markdown",
   "metadata": {},
   "source": [
    "# Creating the baseline CNN model using pytorch"
   ]
  },
  {
   "cell_type": "markdown",
   "metadata": {},
   "source": [
    "### using Convolution, ReLU and Max Pooling Layers"
   ]
  },
  {
   "cell_type": "code",
   "execution_count": 28,
   "metadata": {},
   "outputs": [],
   "source": [
    "import torch.nn.functional as F\n",
    "import torch.nn as nn\n",
    "\n",
    "class ImprovedCNN(nn.Module):\n",
    "    def __init__(self):\n",
    "        super(ImprovedCNN, self).__init__()\n",
    "        self.conv1 = nn.Conv1d(1, 32, kernel_size=3, padding=1)\n",
    "        self.bn1 = nn.BatchNorm1d(32)\n",
    "        self.conv2 = nn.Conv1d(32, 64, kernel_size=3, padding=1)\n",
    "        self.bn2 = nn.BatchNorm1d(64)\n",
    "        self.conv3 = nn.Conv1d(64, 128, kernel_size=3, padding=1)\n",
    "        self.bn3 = nn.BatchNorm1d(128)\n",
    "        self.pool = nn.MaxPool1d(2)\n",
    "        self.dropout = nn.Dropout(0.5)\n",
    "        self.fc1 = nn.Linear(128 * 4, 128)  # After 3 pooling, length reduced to 4\n",
    "        self.fc2 = nn.Linear(128, 10)\n",
    "\n",
    "    def forward(self, x):\n",
    "        x = self.pool(F.relu(self.bn1(self.conv1(x))))\n",
    "        x = self.pool(F.relu(self.bn2(self.conv2(x))))\n",
    "        x = self.pool(F.relu(self.bn3(self.conv3(x))))\n",
    "        x = x.view(-1, 128 * 4)\n",
    "        x = self.dropout(x)\n",
    "        x = F.relu(self.fc1(x))\n",
    "        x = self.fc2(x)\n",
    "        return x\n"
   ]
  },
  {
   "cell_type": "code",
   "execution_count": 29,
   "metadata": {},
   "outputs": [
    {
     "name": "stdout",
     "output_type": "stream",
     "text": [
      "BaselineCNN(\n",
      "  (conv1): Conv1d(1, 16, kernel_size=(3,), stride=(1,), padding=(1,))\n",
      "  (pool): MaxPool1d(kernel_size=2, stride=2, padding=0, dilation=1, ceil_mode=False)\n",
      "  (conv2): Conv1d(16, 32, kernel_size=(3,), stride=(1,), padding=(1,))\n",
      "  (fc1): Linear(in_features=256, out_features=64, bias=True)\n",
      "  (fc2): Linear(in_features=64, out_features=10, bias=True)\n",
      ")\n"
     ]
    }
   ],
   "source": [
    "model = BaselineCNN()\n",
    "print(model)"
   ]
  },
  {
   "cell_type": "markdown",
   "metadata": {},
   "source": [
    "# Training Loop "
   ]
  },
  {
   "cell_type": "code",
   "execution_count": 30,
   "metadata": {},
   "outputs": [
    {
     "name": "stdout",
     "output_type": "stream",
     "text": [
      "Epoch 1/20 - Train loss: 2.3052, Train acc: 0.1175 - Val loss: 2.2690, Val acc: 0.1650\n",
      "Epoch 2/20 - Train loss: 2.1962, Train acc: 0.2087 - Val loss: 2.2465, Val acc: 0.1400\n",
      "Epoch 3/20 - Train loss: 2.1005, Train acc: 0.2675 - Val loss: 2.1939, Val acc: 0.1800\n",
      "Epoch 4/20 - Train loss: 1.9881, Train acc: 0.3175 - Val loss: 2.1290, Val acc: 0.2600\n",
      "Epoch 5/20 - Train loss: 1.8794, Train acc: 0.3738 - Val loss: 2.0974, Val acc: 0.2600\n",
      "Epoch 6/20 - Train loss: 1.7232, Train acc: 0.4437 - Val loss: 2.0163, Val acc: 0.2850\n",
      "Epoch 7/20 - Train loss: 1.6244, Train acc: 0.4850 - Val loss: 2.0322, Val acc: 0.2700\n",
      "Epoch 8/20 - Train loss: 1.5002, Train acc: 0.5088 - Val loss: 2.0090, Val acc: 0.2950\n",
      "Epoch 9/20 - Train loss: 1.3778, Train acc: 0.5575 - Val loss: 2.0434, Val acc: 0.3000\n",
      "Epoch 10/20 - Train loss: 1.3052, Train acc: 0.5625 - Val loss: 2.0673, Val acc: 0.2950\n",
      "Epoch 11/20 - Train loss: 1.1920, Train acc: 0.6238 - Val loss: 2.0000, Val acc: 0.3150\n",
      "Epoch 12/20 - Train loss: 1.1422, Train acc: 0.6375 - Val loss: 1.9836, Val acc: 0.3300\n",
      "Epoch 13/20 - Train loss: 1.0041, Train acc: 0.6737 - Val loss: 1.9497, Val acc: 0.3100\n",
      "Epoch 14/20 - Train loss: 0.9911, Train acc: 0.6750 - Val loss: 1.9994, Val acc: 0.3400\n",
      "Epoch 15/20 - Train loss: 0.8999, Train acc: 0.7288 - Val loss: 1.9949, Val acc: 0.3100\n",
      "Epoch 16/20 - Train loss: 0.8608, Train acc: 0.7262 - Val loss: 2.0578, Val acc: 0.3300\n",
      "Epoch 17/20 - Train loss: 0.7463, Train acc: 0.7688 - Val loss: 2.0285, Val acc: 0.3150\n",
      "Epoch 18/20 - Train loss: 0.7638, Train acc: 0.7612 - Val loss: 2.0660, Val acc: 0.3150\n",
      "Epoch 19/20 - Train loss: 0.7025, Train acc: 0.7812 - Val loss: 2.0675, Val acc: 0.3000\n",
      "Epoch 20/20 - Train loss: 0.6032, Train acc: 0.8163 - Val loss: 2.1550, Val acc: 0.3200\n"
     ]
    }
   ],
   "source": [
    "import torch.optim as optim\n",
    "\n",
    "device = torch.device('cuda' if torch.cuda.is_available() else 'cpu')\n",
    "\n",
    "criterion = nn.CrossEntropyLoss()\n",
    "\n",
    "model = ImprovedCNN().to(device)\n",
    "optimizer = optim.Adam(model.parameters(), lr=0.0005, weight_decay=1e-4)\n",
    "\n",
    "num_epochs = 20  # train longer\n",
    "\n",
    "\n",
    "def train_one_epoch(model, loader, optimizer, criterion):\n",
    "    model.train()\n",
    "    running_loss = 0\n",
    "    correct = 0\n",
    "    total = 0\n",
    "    \n",
    "    for inputs, labels in loader:\n",
    "        inputs, labels = inputs.to(device), labels.to(device)\n",
    "        \n",
    "        optimizer.zero_grad()\n",
    "        outputs = model(inputs)\n",
    "        loss = criterion(outputs, labels)\n",
    "        loss.backward()\n",
    "        optimizer.step()\n",
    "        \n",
    "        running_loss += loss.item() * inputs.size(0)\n",
    "        _, predicted = torch.max(outputs, 1)\n",
    "        correct += (predicted == labels).sum().item()\n",
    "        total += labels.size(0)\n",
    "    \n",
    "    epoch_loss = running_loss / total\n",
    "    epoch_acc = correct / total\n",
    "    return epoch_loss, epoch_acc\n",
    "\n",
    "def validate(model, loader, criterion):\n",
    "    model.eval()\n",
    "    running_loss = 0\n",
    "    correct = 0\n",
    "    total = 0\n",
    "    \n",
    "    with torch.no_grad():\n",
    "        for inputs, labels in loader:\n",
    "            inputs, labels = inputs.to(device), labels.to(device)\n",
    "            outputs = model(inputs)\n",
    "            loss = criterion(outputs, labels)\n",
    "            running_loss += loss.item() * inputs.size(0)\n",
    "            _, predicted = torch.max(outputs, 1)\n",
    "            correct += (predicted == labels).sum().item()\n",
    "            total += labels.size(0)\n",
    "    \n",
    "    val_loss = running_loss / total\n",
    "    val_acc = correct / total\n",
    "    return val_loss, val_acc\n",
    "\n",
    "train_losses, train_accuracies = [], []\n",
    "val_losses, val_accuracies = [], []\n",
    "\n",
    "for epoch in range(num_epochs):\n",
    "    train_loss, train_acc = train_one_epoch(model, train_loader, optimizer, criterion)\n",
    "    val_loss, val_acc = validate(model, test_loader, criterion)\n",
    "    \n",
    "    train_losses.append(train_loss)\n",
    "    train_accuracies.append(train_acc)\n",
    "    val_losses.append(val_loss)\n",
    "    val_accuracies.append(val_acc)\n",
    "    \n",
    "    print(f\"Epoch {epoch+1}/{num_epochs} - \"\n",
    "          f\"Train loss: {train_loss:.4f}, Train acc: {train_acc:.4f} - \"\n",
    "          f\"Val loss: {val_loss:.4f}, Val acc: {val_acc:.4f}\")\n"
   ]
  },
  {
   "cell_type": "markdown",
   "metadata": {},
   "source": [
    "# Evaluation, Visualization, and Analysis"
   ]
  },
  {
   "cell_type": "code",
   "execution_count": 31,
   "metadata": {},
   "outputs": [],
   "source": [
    "import matplotlib.pyplot as plt\n",
    "\n",
    "def plot_metrics(train_losses, val_losses, train_accuracies, val_accuracies):\n",
    "    epochs = range(1, len(train_losses) + 1)\n",
    "\n",
    "    plt.figure(figsize=(12,5))\n",
    "\n",
    "    # Loss plot\n",
    "    plt.subplot(1, 2, 1)\n",
    "    plt.plot(epochs, train_losses, 'b-', label='Train Loss')\n",
    "    plt.plot(epochs, val_losses, 'r-', label='Validation Loss')\n",
    "    plt.xlabel('Epoch')\n",
    "    plt.ylabel('Loss')\n",
    "    plt.title('Loss vs Epoch')\n",
    "    plt.legend()\n",
    "\n",
    "    # Accuracy plot\n",
    "    plt.subplot(1, 2, 2)\n",
    "    plt.plot(epochs, train_accuracies, 'b-', label='Train Accuracy')\n",
    "    plt.plot(epochs, val_accuracies, 'r-', label='Validation Accuracy')\n",
    "    plt.xlabel('Epoch')\n",
    "    plt.ylabel('Accuracy')\n",
    "    plt.title('Accuracy vs Epoch')\n",
    "    plt.legend()\n",
    "\n",
    "    plt.show()\n"
   ]
  },
  {
   "cell_type": "code",
   "execution_count": 33,
   "metadata": {},
   "outputs": [
    {
     "data": {
      "image/png": "[encoded data removed]",
      "text/plain": [
       "<Figure size 1200x500 with 2 Axes>"
      ]
     },
     "metadata": {},
     "output_type": "display_data"
    }
   ],
   "source": [
    "plot_metrics(train_losses, val_losses, train_accuracies, val_accuracies)\n"
   ]
  },
  {
   "cell_type": "markdown",
   "metadata": {},
   "source": [
    "# Plotting the confusion matrix"
   ]
  },
  {
   "cell_type": "code",
   "execution_count": 34,
   "metadata": {},
   "outputs": [
    {
     "name": "stdout",
     "output_type": "stream",
     "text": [
      "Test Accuracy: 0.3200\n"
     ]
    },
    {
     "data": {
      "image/png": "[encoded data removed]",
      "text/plain": [
       "<Figure size 800x600 with 2 Axes>"
      ]
     },
     "metadata": {},
     "output_type": "display_data"
    }
   ],
   "source": [
    "import torch\n",
    "from sklearn.metrics import confusion_matrix\n",
    "import seaborn as sns\n",
    "import matplotlib.pyplot as plt\n",
    "\n",
    "def evaluate_model(model, test_loader, device):\n",
    "    model.eval()\n",
    "    correct = 0\n",
    "    total = 0\n",
    "    all_preds = []\n",
    "    all_labels = []\n",
    "    \n",
    "    with torch.no_grad():\n",
    "        for inputs, labels in test_loader:\n",
    "            inputs, labels = inputs.to(device), labels.to(device)\n",
    "            outputs = model(inputs)\n",
    "            _, preds = torch.max(outputs, 1)\n",
    "            correct += (preds == labels).sum().item()\n",
    "            total += labels.size(0)\n",
    "            \n",
    "            all_preds.extend(preds.cpu().numpy())\n",
    "            all_labels.extend(labels.cpu().numpy())\n",
    "    \n",
    "    accuracy = correct / total\n",
    "    print(f'Test Accuracy: {accuracy:.4f}')\n",
    "    \n",
    "    # Confusion Matrix\n",
    "    cm = confusion_matrix(all_labels, all_preds)\n",
    "    plt.figure(figsize=(8,6))\n",
    "    sns.heatmap(cm, annot=True, fmt='d', cmap='Blues')\n",
    "    plt.xlabel('Predicted')\n",
    "    plt.ylabel('Actual')\n",
    "    plt.title('Confusion Matrix')\n",
    "    plt.show()\n",
    "\n",
    "# Call it with your model and test_loader\n",
    "evaluate_model(model, test_loader, device)\n"
   ]
  }
 ],
 "metadata": {
  "kernelspec": {
   "display_name": "base",
   "language": "python",
   "name": "python3"
  },
  "language_info": {
   "codemirror_mode": {
    "name": "ipython",
    "version": 3
   },
   "file_extension": ".py",
   "mimetype": "text/x-python",
   "name": "python",
   "nbconvert_exporter": "python",
   "pygments_lexer": "ipython3",
   "version": "3.11.7"
  }
 },
 "nbformat": 4,
 "nbformat_minor": 2
}
